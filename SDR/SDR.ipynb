{
 "cells": [
  {
   "cell_type": "code",
   "execution_count": 1,
   "id": "4937a0d4",
   "metadata": {},
   "outputs": [],
   "source": [
    "import json\n",
    "from dotenv import load_dotenv\n",
    "from openai import AsyncOpenAI\n",
    "from agents import Agent, Runner, trace, function_tool, OpenAIChatCompletionsModel\n",
    "from typing import Dict\n",
    "import sendgrid\n",
    "import os\n",
    "from sendgrid.helpers.mail import Mail, Email, To, Content\n",
    "import asyncio\n",
    "import gradio as gr"
   ]
  },
  {
   "cell_type": "code",
   "execution_count": 2,
   "id": "29b4bc17",
   "metadata": {},
   "outputs": [
    {
     "data": {
      "text/plain": [
       "True"
      ]
     },
     "execution_count": 2,
     "metadata": {},
     "output_type": "execute_result"
    }
   ],
   "source": [
    "load_dotenv(override=True)"
   ]
  },
  {
   "cell_type": "code",
   "execution_count": 3,
   "id": "b91b9093",
   "metadata": {},
   "outputs": [],
   "source": [
    "openai_api_key = os.getenv(\"OPENAI_API_KEY\")\n",
    "google_api_key = os.getenv(\"GOOGLE_API_KEY\")\n",
    "deepseek_api_key = os.getenv(\"DEEPSEEK_API_KEY\")"
   ]
  },
  {
   "cell_type": "code",
   "execution_count": 4,
   "id": "d875dfc9",
   "metadata": {},
   "outputs": [],
   "source": [
    "instructions1 = \"You are a sales agent working for {company_name}, a company that provides {products}. You write professional, serious cold emails.\"\n",
    "instructions2 = \"You are a humorous, engaging sales agent working for {company_name}, a company that provides {products}. You write witty, engaging cold emails that are likely to get a response.\"\n",
    "instructions3 = \"You are a busy sales agent working for {company_name}, a company that provides {products}. You write concise, to the point cold emails.\""
   ]
  },
  {
   "cell_type": "code",
   "execution_count": 5,
   "id": "d0e3b9cf",
   "metadata": {},
   "outputs": [],
   "source": [
    "gemini_base_url = \"https://generativelanguage.googleapis.com/v1beta/openai/\"\n",
    "deepseek_base_url = \"https://api.deepseek.com/v1\"\n",
    "\n",
    "deepseek_client = AsyncOpenAI(base_url=deepseek_base_url, api_key=deepseek_api_key)\n",
    "gemini_client = AsyncOpenAI(base_url=gemini_base_url, api_key=google_api_key)\n",
    "\n",
    "\n",
    "deepseek_model = OpenAIChatCompletionsModel(model=\"deepseek-chat\", openai_client=deepseek_client)\n",
    "gemini_model = OpenAIChatCompletionsModel(model=\"gemini-2.0-flash\", openai_client=gemini_client)\n"
   ]
  },
  {
   "cell_type": "code",
   "execution_count": 6,
   "id": "0bbb9dc3",
   "metadata": {},
   "outputs": [],
   "source": [
    "sales_agent1 = Agent(name=\"DeepSeek Sales Agent\", instructions=instructions1, model=deepseek_model)\n",
    "sales_agent2 = Agent(name=\"Gemini Sales Agent\", instructions=instructions2, model=gemini_model)\n",
    "sales_agent3 = Agent(name=\"OpenAI Sales Agent\", instructions=instructions3, model=\"gpt-4o-mini\")"
   ]
  },
  {
   "cell_type": "code",
   "execution_count": 7,
   "id": "5c1703ad",
   "metadata": {},
   "outputs": [],
   "source": [
    "description = \"Write a cold sales email\"\n",
    "tool1 = sales_agent1.as_tool(tool_name=\"sales_agent1\", tool_description=description)\n",
    "tool2 = sales_agent2.as_tool(tool_name=\"sales_agent2\", tool_description=description)\n",
    "tool3 = sales_agent3.as_tool(tool_name=\"sales_agent3\", tool_description=description)"
   ]
  },
  {
   "cell_type": "code",
   "execution_count": 8,
   "id": "19c035ea",
   "metadata": {},
   "outputs": [],
   "source": [
    "@function_tool\n",
    "def send_html_email(subject: str, html_body: str, from_email: str, to_emails: str) -> Dict[str, str]:\n",
    "    \"\"\"Send out an email with the given subject and HTML body\"\"\"\n",
    "    sg = sendgrid.SendGridAPIClient(api_key=os.getenv(\"SENDGRID_API_KEY\"))\n",
    "\n",
    "    from_email_obj = Email(from_email)\n",
    "    to_emails_list = [e.strip() for e in to_emails.split(\",\") if e.strip()]\n",
    "\n",
    "    sent_list = []\n",
    "    failed_list = []\n",
    "\n",
    "    for to in to_emails_list:\n",
    "        try:\n",
    "            to_email_obj = To(to)\n",
    "            content = Content(\"text/html\", html_body)\n",
    "            mail = Mail(from_email_obj, to_email_obj, subject, content)\n",
    "            response = sg.client.mail.send.post(request_body=mail.get())\n",
    "\n",
    "            if response.status_code in (200, 202):  # 202 = accepted\n",
    "                sent_list.append(to)\n",
    "            else:\n",
    "                failed_list.append({\"email\": to, \"code\": response.status_code})\n",
    "\n",
    "        except Exception as e:\n",
    "            failed_list.append({\"email\": to, \"error\": str(e)})\n",
    "\n",
    "    return {\n",
    "        \"status\": \"success\" if sent_list else \"failed\",\n",
    "        \"sent_to\": sent_list,\n",
    "        \"failed\": failed_list\n",
    "    }"
   ]
  },
  {
   "cell_type": "code",
   "execution_count": 9,
   "id": "07381da2",
   "metadata": {},
   "outputs": [],
   "source": [
    "subject_instructions = \"You write a subject for a cold sales email. \\\n",
    "You are given a message and you need to write a subject for an email that is likely to get a response.\"\n",
    "\n",
    "html_instructions =  \"you can convert a text email body to an HTML email body. \\\n",
    "You are given a text email body which might have some markdown \\\n",
    "and you need to convert it to an HTML email body with simple, clear, compelling layout and design. \\\n",
    "Do not include a footer as this will be added by another tool.\"\n",
    "\n",
    "subject_writer = Agent(name=\"Email subject writer\", instructions=subject_instructions, model=\"gpt-4o-mini\")\n",
    "subject_tool = subject_writer.as_tool(tool_name=\"subject_writer\", tool_description=\"Write a subject for a cold sales email\")\n",
    "\n",
    "html_converter = Agent(name=\"HTML email body converter\", instructions=html_instructions, model=\"gpt-4o-mini\")\n",
    "html_tool = html_converter.as_tool(tool_name=\"html_converter\", tool_description=\"Convert a text email body to an HTML email body\")\n",
    "\n",
    "email_tools = [subject_tool, html_tool, send_html_email]\n",
    "\n",
    "instructions = \"You are an email formatter and sender. First use subject_writer to write a subject, then use html_converter to convert the body to HTML, then send_html_email with the subject, HTML body, sender, and receivers.\"\n",
    "\n",
    "emailer_agent = Agent(\n",
    "    name=\"Email Manager\",\n",
    "    instructions=instructions,\n",
    "    tools=email_tools,\n",
    "    model=\"gpt-4o-mini\",\n",
    "    handoff_description=\"Convert an email to HTML and send it\"\n",
    ")"
   ]
  },
  {
   "cell_type": "code",
   "execution_count": 10,
   "id": "6d8ef2c3",
   "metadata": {},
   "outputs": [],
   "source": [
    "tools = [tool1, tool2, tool3]\n",
    "handoffs = [emailer_agent]\n",
    "\n",
    "# 🔹 NEW: tell sales_manager to return JSON with drafts + final_pick\n",
    "instructions = \"\"\"You are a sales manager working for {company_name}.\n",
    "You use the tools given to you to generate cold sales emails.\n",
    "You never generate sales emails yourself; you always use the tools.\n",
    "You try all 3 sales agent tools at least once before choosing the best one.\n",
    "Return your decision in strict JSON with this format:\n",
    "\n",
    "{\n",
    "  \"drafts\": {\n",
    "    \"sales_agent1\": \"...\",\n",
    "    \"sales_agent2\": \"...\",\n",
    "    \"sales_agent3\": \"...\"\n",
    "  },\n",
    "  \"final_pick\": \"...\"\n",
    "}\n",
    "\n",
    "Do not add commentary, only return valid JSON.\n",
    "After producing the JSON, you may hand off the `final_pick` text only to the Email Manager.\n",
    "\"\"\"\n",
    "\n",
    "sales_manager = Agent(\n",
    "    name=\"Sales Manager\",\n",
    "    instructions=instructions,\n",
    "    tools=tools,\n",
    "    handoffs=handoffs,\n",
    "    model=\"gpt-4o-mini\"\n",
    ")"
   ]
  },
  {
   "cell_type": "code",
   "execution_count": 11,
   "id": "a1eb8d2c",
   "metadata": {},
   "outputs": [],
   "source": [
    "async def generate_and_send(company_name, products, sender_email, receiver_names, receiver_emails):\n",
    "    message = f\"\"\"\n",
    "    Generate a cold sales email for {company_name}.\n",
    "    Products/Services: {products}\n",
    "    Sender: {sender_email}\n",
    "    Receivers: {receiver_names} ({receiver_emails})\n",
    "    \"\"\"\n",
    "\n",
    "    result = await Runner.run(sales_manager, message)\n",
    "    return result"
   ]
  },
  {
   "cell_type": "code",
   "execution_count": null,
   "id": "da417a54",
   "metadata": {},
   "outputs": [
    {
     "ename": "ModuleNotFoundError",
     "evalue": "No module named 'python_agents'",
     "output_type": "error",
     "traceback": [
      "\u001b[31m---------------------------------------------------------------------------\u001b[39m",
      "\u001b[31mModuleNotFoundError\u001b[39m                       Traceback (most recent call last)",
      "\u001b[36mCell\u001b[39m\u001b[36m \u001b[39m\u001b[32mIn[22]\u001b[39m\u001b[32m, line 1\u001b[39m\n\u001b[32m----> \u001b[39m\u001b[32m1\u001b[39m \u001b[38;5;28;01mfrom\u001b[39;00m\u001b[38;5;250m \u001b[39m\u001b[34;01mpython_agents\u001b[39;00m\u001b[34;01m.\u001b[39;00m\u001b[34;01mSDR\u001b[39;00m\u001b[34;01m.\u001b[39;00m\u001b[34;01mSDR2\u001b[39;00m\u001b[38;5;250m \u001b[39m\u001b[38;5;28;01mimport\u001b[39;00m draft1_content\n\u001b[32m      4\u001b[39m \u001b[38;5;28;01mdef\u001b[39;00m\u001b[38;5;250m \u001b[39m\u001b[34minterface_fn\u001b[39m(company_name, products, sender_email, receiver_names, receiver_emails):\n\u001b[32m      5\u001b[39m     loop = asyncio.new_event_loop()\n",
      "\u001b[31mModuleNotFoundError\u001b[39m: No module named 'python_agents'"
     ]
    }
   ],
   "source": [
    "def interface_fn(company_name, products, sender_email, receiver_names, receiver_emails):\n",
    "    loop = asyncio.new_event_loop()\n",
    "    asyncio.set_event_loop(loop)\n",
    "    result = loop.run_until_complete(\n",
    "        generate_and_send(company_name, products, sender_email, receiver_names, receiver_emails)\n",
    "    )\n",
    "\n",
    "    print(\"Runner Result object:\", result)\n",
    "    print(\"Output text:\", result.output_text)\n",
    "\n",
    "    # 🔹 Extract JSON from the RunResult\n",
    "    draft1_content, draft2_content, draft3_content, final_pick_content = \"\", \"\", \"\", \"\"\n",
    "    try:\n",
    "        parsed = json.loads(result.output_text)  # <-- use output_text, not result directly\n",
    "        drafts = parsed.get(\"drafts\", {})\n",
    "        draft1_content = drafts.get(\"sales_agent1\", \"\")\n",
    "        draft2_content = drafts.get(\"sales_agent2\", \"\")\n",
    "        draft3_content = drafts.get(\"sales_agent3\", \"\")\n",
    "        final_pick_content = parsed.get(\"final_pick\", \"\")\n",
    "    except Exception as e:\n",
    "        final_pick_content = f\"Error parsing JSON: {e}\"\n",
    "\n",
    "    return draft1_content, draft2_content, draft3_content, final_pick_content\n",
    "    "
   ]
  },
  {
   "cell_type": "code",
   "execution_count": 24,
   "id": "0587f54d",
   "metadata": {},
   "outputs": [
    {
     "name": "stdout",
     "output_type": "stream",
     "text": [
      "<module 'agents.result' from 'c:\\\\Users\\\\andre\\\\projects\\\\agents\\\\.venv\\\\Lib\\\\site-packages\\\\agents\\\\result.py'>\n"
     ]
    }
   ],
   "source": [
    "from agents import result\n",
    "\n",
    "\n",
    "print (result)"
   ]
  },
  {
   "cell_type": "code",
   "execution_count": 13,
   "id": "c71de65b",
   "metadata": {},
   "outputs": [],
   "source": [
    "with gr.Blocks(title=\"Cold Email Generator\") as demo:\n",
    "    gr.Markdown(\"## Cold Email Generator & Sender\")\n",
    "\n",
    "    with gr.Row():\n",
    "        with gr.Column(scale=1):\n",
    "            company_name = gr.Textbox(label=\"Company Name\")\n",
    "            products = gr.Textbox(label=\"Products / Services\", lines=3)\n",
    "            sender_email = gr.Textbox(label=\"Sender Email\")\n",
    "            receiver_names = gr.Textbox(label=\"Receiver Names (comma-separated)\")\n",
    "            receiver_emails = gr.Textbox(label=\"Receiver Emails (comma-separated)\")\n",
    "            run_btn = gr.Button(\"Generate & Send\")\n",
    "\n",
    "        with gr.Column(scale=1):\n",
    "            draft1_content = gr.Textbox(label=\"Draft from Sales Agent 1\", lines=10)\n",
    "            draft2_content = gr.Textbox(label=\"Draft from Sales Agent 2\", lines=10)\n",
    "            draft3_content = gr.Textbox(label=\"Draft from Sales Agent 3\", lines=10)\n",
    "            final_pick_content = gr.Textbox(label=\"Final Pick\", lines=10)\n",
    "\n",
    "    run_btn.click(\n",
    "        interface_fn,\n",
    "        inputs=[company_name, products, sender_email, receiver_names, receiver_emails],\n",
    "        outputs=[draft1_content, draft2_content, draft3_content, final_pick_content]\n",
    "    )"
   ]
  },
  {
   "cell_type": "code",
   "execution_count": 15,
   "id": "3bd6c3e2",
   "metadata": {},
   "outputs": [
    {
     "name": "stdout",
     "output_type": "stream",
     "text": [
      "Rerunning server... use `close()` to stop if you need to change `launch()` parameters.\n",
      "----\n",
      "* To create a public link, set `share=True` in `launch()`.\n"
     ]
    },
    {
     "data": {
      "text/html": [
       "<div><iframe src=\"http://127.0.0.1:7861/\" width=\"100%\" height=\"500\" allow=\"autoplay; camera; microphone; clipboard-read; clipboard-write;\" frameborder=\"0\" allowfullscreen></iframe></div>"
      ],
      "text/plain": [
       "<IPython.core.display.HTML object>"
      ]
     },
     "metadata": {},
     "output_type": "display_data"
    }
   ],
   "source": [
    "async def main() -> None:\n",
    "    with trace(\"Automated SDR\"):\n",
    "        result = await Runner.run(sales_manager, \"Send out a cold sales email addressed to Dear CEO\")\n",
    "        print(result)\n",
    "\n",
    "if __name__ == \"__main__\":\n",
    "    demo.launch()"
   ]
  }
 ],
 "metadata": {
  "kernelspec": {
   "display_name": ".venv",
   "language": "python",
   "name": "python3"
  },
  "language_info": {
   "codemirror_mode": {
    "name": "ipython",
    "version": 3
   },
   "file_extension": ".py",
   "mimetype": "text/x-python",
   "name": "python",
   "nbconvert_exporter": "python",
   "pygments_lexer": "ipython3",
   "version": "3.12.6"
  }
 },
 "nbformat": 4,
 "nbformat_minor": 5
}
